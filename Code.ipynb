{
 "cells": [
  {
   "cell_type": "code",
   "execution_count": 1,
   "id": "772627dc",
   "metadata": {},
   "outputs": [
    {
     "name": "stdout",
     "output_type": "stream",
     "text": [
      "pygame 2.5.0 (SDL 2.28.0, Python 3.10.9)\n",
      "Hello from the pygame community. https://www.pygame.org/contribute.html\n"
     ]
    },
    {
     "name": "stderr",
     "output_type": "stream",
     "text": [
      "2023-06-28 17:37:28.535 python[23195:670522] +[CATransaction synchronize] called within transaction\n"
     ]
    }
   ],
   "source": [
    "import pygame\n",
    "import tkinter as  tkr\n",
    "from tkinter.filedialog import askdirectory\n",
    "import os\n",
    "music_player=tkr.Tk()\n",
    "music_player.title(\"my music player\")\n",
    "music_player.geometry(\"450x350\")\n",
    "directory=askdirectory()\n",
    "os.chdir(directory)\n",
    "song_list=os.listdir()\n",
    "play_list=tkr.Listbox(music_player,font=\"Helvetica 12 bold\",bg='yellow',selectmode=tkr.SINGLE)\n",
    "for item in song_list:\n",
    "    pos=0\n",
    "    play_list.insert(pos,item)\n",
    "    pos+=1\n",
    "pygame.init()\n",
    "pygame.mixer.init()\n",
    "\n",
    "def play():\n",
    "    pygame.mixer.music.load(play_list.get(tkr.ACTIVE))\n",
    "    var.set(play_list.get(tkr.ACTIVE))\n",
    "    pygame.mixer.music.play()\n",
    "def stop():\n",
    "    pygame.mixer.music.stop()\n",
    "def pause():\n",
    "    pygame.mixer.music.pause()\n",
    "def unpause():\n",
    "    pygame.mixer.music.unpause()\n",
    "Button1=tkr.Button(music_player,width=5,height=3,font=\"Helvetica 12 bold\",text=\"PLAY\",command=play,bg=\"green\",fg=\"white\")\n",
    "Button2=tkr.Button(music_player,width=5,height=3,font=\"Helvetica 12 bold\",text=\"STOP\",command=stop,bg=\"red\",fg=\"white\")\n",
    "Button3=tkr.Button(music_player,width=5,height=3,font=\"Helvetica 12 bold\",text=\"PAUSE\",command=pause,bg=\"blue\",fg=\"white\")\n",
    "Button4=tkr.Button(music_player,width=5,height=3,font=\"Helvetica 12 bold\",text=\"UNPAUSE\",command=unpause,bg=\"orange\",fg=\"white\")\n",
    "var=tkr.StringVar()\n",
    "song_title=tkr.Label(music_player,font=\"Helvetica 12 bold\",textvariable=var)\n",
    "song_title.pack()\n",
    "Button1.pack(fill=\"x\")\n",
    "Button2.pack(fill=\"x\")\n",
    "Button3.pack(fill=\"x\")\n",
    "Button4.pack(fill=\"x\")\n",
    "play_list.pack(fill=\"both\",expand=\"yes\")\n",
    "music_player.mainloop()"
   ]
  },
  {
   "cell_type": "code",
   "execution_count": null,
   "id": "afe119a1",
   "metadata": {},
   "outputs": [],
   "source": []
  },
  {
   "cell_type": "code",
   "execution_count": null,
   "id": "c2e1301d",
   "metadata": {},
   "outputs": [],
   "source": []
  }
 ],
 "metadata": {
  "kernelspec": {
   "display_name": "Python 3 (ipykernel)",
   "language": "python",
   "name": "python3"
  },
  "language_info": {
   "codemirror_mode": {
    "name": "ipython",
    "version": 3
   },
   "file_extension": ".py",
   "mimetype": "text/x-python",
   "name": "python",
   "nbconvert_exporter": "python",
   "pygments_lexer": "ipython3",
   "version": "3.10.9"
  }
 },
 "nbformat": 4,
 "nbformat_minor": 5
}
